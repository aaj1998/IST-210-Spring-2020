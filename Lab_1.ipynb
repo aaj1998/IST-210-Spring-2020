{
  "nbformat": 4,
  "nbformat_minor": 0,
  "metadata": {
    "colab": {
      "name": "Lab 1.ipynb",
      "provenance": [],
      "authorship_tag": "ABX9TyMxkVJm7JSnL2pbyLc6c32B",
      "include_colab_link": true
    },
    "kernelspec": {
      "name": "python3",
      "display_name": "Python 3"
    }
  },
  "cells": [
    {
      "cell_type": "markdown",
      "metadata": {
        "id": "view-in-github",
        "colab_type": "text"
      },
      "source": [
        "<a href=\"https://colab.research.google.com/github/aaj1998/IST-210-Spring-2020/blob/master/Lab_1.ipynb\" target=\"_parent\"><img src=\"https://colab.research.google.com/assets/colab-badge.svg\" alt=\"Open In Colab\"/></a>"
      ]
    },
    {
      "cell_type": "markdown",
      "metadata": {
        "id": "9gfzSGkKErZj",
        "colab_type": "text"
      },
      "source": [
        "#Ashley Joseph\n",
        "##Social Media and Collective Intelligence\n",
        "###Researcher/Professor in Cyberpsychology\n"
      ]
    }
  ]
}