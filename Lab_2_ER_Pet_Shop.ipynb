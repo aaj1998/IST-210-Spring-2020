{
  "nbformat": 4,
  "nbformat_minor": 0,
  "metadata": {
    "colab": {
      "name": "Lab 2: ER Pet Shop",
      "provenance": []
    },
    "kernelspec": {
      "name": "python3",
      "display_name": "Python 3"
    }
  },
  "cells": [
    {
      "cell_type": "code",
      "metadata": {
        "colab_type": "code",
        "id": "upmP0enBjSLu",
        "colab": {}
      },
      "source": [
        ""
      ],
      "execution_count": 0,
      "outputs": []
    },
    {
      "cell_type": "markdown",
      "metadata": {
        "id": "OPJmJb_jNS_W",
        "colab_type": "text"
      },
      "source": [
        " ![alt text](https://raw.githubusercontent.com/aaj1998/IST-210-Spring-2020/master/Image/Lab%202.png) I made 6 tables, one for Pets, Customers, Transactions for Pets, Enclosures, Transactions for Food and Food Inventory.  For my pets table, I made pets ID my primary key because I know that every pet would have his or her unique ID that was separate from everyone else. For my Customer table, my primary key was the loyalty ID because customers are a part of a loyalty program and each member is assigned an ID. For my Transactions for Pets, my primary key was an adoption ID so the pet store could keep track of each adoption. This table also had 2 foreign keys, pet ID and loyalty ID. This table could accurately track which pet was adopted by which loyalty member.  My enclosures table had a primary key that is the enclosure ID so the pet shop can know not to replicate the same ID. Since the enclosures are for the pets, my enclosures table has a foreign key of the pet ID.  Next for my Transactions for Food table, my primary key was the food ID and it had a foreign key of a loyalty ID again so I could see which customers bought what food and give them discounts based on their membership. For my final table, the Food Inventory had a primary key of Inventory ID so I can accurately tell where this specific food was placed in my store. This was the only table that didn’t have a foreign key. \n",
        "\n",
        "  Since this is an ER diagram for a pet shop, my pets table had relationships with 4 tables. My pets table had a one to-many relationship with customers. In which a pet would go to one customer but a customer could have many pets. Pets had a one to one relationship with enclosures. One pet would be in one enclosure and one enclosure would hold only one pet. Pets also had a one to one relationship with transactions for pets as well. A pet could only be purchased once and a transaction would only account for one specific pet. Finally, my pets table would have a relationship with the food inventory table which is also one to many. I figured that a pet shop would keep an inventory of food for each breed of pets (cats, birds, snakes etc) and the shop would feed all the dogs the same dog food and feed all the cats the same cat food. Customers also have a relationship with transactions for food and this is a one to-many relationship. One transaction is noted for one customer but one customer can buy many bags of food. \n"
      ]
    }
  ]
}