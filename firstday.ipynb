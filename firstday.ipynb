{
  "nbformat": 4,
  "nbformat_minor": 0,
  "metadata": {
    "colab": {
      "name": "firstday.ipynb",
      "provenance": [],
      "authorship_tag": "ABX9TyO1yEdKM8vObND2kh6eChRX",
      "include_colab_link": true
    },
    "kernelspec": {
      "name": "python3",
      "display_name": "Python 3"
    }
  },
  "cells": [
    {
      "cell_type": "markdown",
      "metadata": {
        "id": "view-in-github",
        "colab_type": "text"
      },
      "source": [
        "<a href=\"https://colab.research.google.com/github/aaj1998/IST-210-Spring-2020/blob/master/firstday.ipynb\" target=\"_parent\"><img src=\"https://colab.research.google.com/assets/colab-badge.svg\" alt=\"Open In Colab\"/></a>"
      ]
    },
    {
      "cell_type": "code",
      "metadata": {
        "id": "U3uxKjlZzXyT",
        "colab_type": "code",
        "colab": {
          "base_uri": "https://localhost:8080/",
          "height": 35
        },
        "outputId": "05d06931-b48b-4d06-9c04-e171ba61ff67"
      },
      "source": [
        "2+2"
      ],
      "execution_count": 3,
      "outputs": [
        {
          "output_type": "execute_result",
          "data": {
            "text/plain": [
              "4"
            ]
          },
          "metadata": {
            "tags": []
          },
          "execution_count": 3
        }
      ]
    },
    {
      "cell_type": "markdown",
      "metadata": {
        "id": "G4r2WKeWz9Ws",
        "colab_type": "text"
      },
      "source": [
        "This is my first notebook!\n"
      ]
    },
    {
      "cell_type": "code",
      "metadata": {
        "id": "hi6qmLUczvr1",
        "colab_type": "code",
        "colab": {
          "base_uri": "https://localhost:8080/",
          "height": 35
        },
        "outputId": "7e15437d-dfe5-4b57-a83f-7d1703248043"
      },
      "source": [
        "2+3\n",
        "\n"
      ],
      "execution_count": 4,
      "outputs": [
        {
          "output_type": "execute_result",
          "data": {
            "text/plain": [
              "5"
            ]
          },
          "metadata": {
            "tags": []
          },
          "execution_count": 4
        }
      ]
    },
    {
      "cell_type": "markdown",
      "metadata": {
        "id": "S7OKnCSf0PMk",
        "colab_type": "text"
      },
      "source": [
        "This is **bold**"
      ]
    },
    {
      "cell_type": "markdown",
      "metadata": {
        "id": "xD81f_Np0n6U",
        "colab_type": "text"
      },
      "source": [
        "### this is a header\n",
        "\n"
      ]
    },
    {
      "cell_type": "markdown",
      "metadata": {
        "id": "_XbFb6TT04Ib",
        "colab_type": "text"
      },
      "source": [
        "#### header"
      ]
    },
    {
      "cell_type": "markdown",
      "metadata": {
        "id": "iikIL-Ds4KlS",
        "colab_type": "text"
      },
      "source": [
        "![alt text]https://raw.githubusercontent.com/aaj1998/IST-210-Spring-2020/master/Introduction/turntable.jpg"
      ]
    },
    {
      "cell_type": "markdown",
      "metadata": {
        "id": "jolLzkUw6csK",
        "colab_type": "text"
      },
      "source": [
        "![alt text](https://raw.githubusercontent.com/aaj1998/IST-210-Spring-2020/master/Introduction/turntable.jpg)"
      ]
    }
  ]
}